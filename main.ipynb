{
 "cells": [
  {
   "cell_type": "code",
   "execution_count": null,
   "metadata": {
    "execution": {
     "iopub.execute_input": "2024-03-15T02:25:23.926370Z",
     "iopub.status.busy": "2024-03-15T02:25:23.925681Z"
    },
    "tags": []
   },
   "outputs": [
    {
     "name": "stdout",
     "output_type": "stream",
     "text": [
      "993.3 990.48 988.1\n",
      "993.1 991.0033333333332 988.0\n",
      "994.0 991.0866666666669 987.1\n",
      "993.4 990.8866666666667 987.1\n",
      "994.4 990.5633333333333 979.7\n"
     ]
    }
   ],
   "source": [
    "from data import load_data\n",
    "from evo_algorithm import Fauna\n",
    "from config import EvoAlgorithmConfig, NetConfig\n",
    "import csv\n",
    "\n",
    "train_loader, test_loader = load_data()\n",
    "fauna = Fauna(EvoAlgorithmConfig.POPULATION_SIZE, NetConfig.CHANNEL_1, NetConfig.CHANNEL_2, EvoAlgorithmConfig.MUTATION_PROB, EvoAlgorithmConfig.CROSSOVER_PROB)\n",
    "\n",
    "fauna.evaluate(train_loader, test_loader)\n",
    "print(fauna.max_eval, fauna.avg_eval, fauna.min_eval)\n",
    "filename = 'fauna_evals.csv'\n",
    "with open(filename, 'w', newline='') as csvfile:\n",
    "    writer = csv.writer(csvfile)\n",
    "    writer.writerow(['Max Eval', 'Avg Eval', 'Min Eval'])\n",
    "    writer.writerow([fauna.max_eval, fauna.avg_eval, fauna.min_eval])\n",
    "\n",
    "for _ in range(EvoAlgorithmConfig.EVOLUTION_ROUNDS_1-1):\n",
    "    fauna.select_tournament()\n",
    "    fauna.crossover()\n",
    "    fauna.mutation()\n",
    "    fauna.evaluate(train_loader, test_loader)\n",
    "    \n",
    "    print(fauna.max_eval, fauna.avg_eval, fauna.min_eval)\n",
    "    with open(filename, 'a', newline='') as csvfile:\n",
    "        writer = csv.writer(csvfile)\n",
    "        writer.writerow([fauna.max_eval, fauna.avg_eval, fauna.min_eval])\n",
    "        \n",
    "    with open('final.txt', 'a') as file:\n",
    "        print(fauna.max_individual.stage1.adj, fauna.max_individual.stage1.kernel_size, fauna.max_individual.stage2.adj, fauna.max_individual.stage2.kernel_size, file=file)\n",
    "        \n",
    "\n",
    "for _ in range(EvoAlgorithmConfig.EVOLUTION_ROUNDS_2):\n",
    "    fauna.select_russian()\n",
    "    fauna.crossover()\n",
    "    fauna.mutation()\n",
    "    fauna.evaluate(train_loader, test_loader)\n",
    "    \n",
    "    print(fauna.max_eval, fauna.avg_eval, fauna.min_eval)\n",
    "    with open(filename, 'a', newline='') as csvfile:\n",
    "        writer = csv.writer(csvfile)\n",
    "        writer.writerow([fauna.max_eval, fauna.avg_eval, fauna.min_eval])\n",
    "        \n",
    "    with open('final.txt', 'a') as file:\n",
    "        print(fauna.max_individual.stage1.adj, fauna.max_individual.stage1.kernel_size, fauna.max_individual.stage2.adj, fauna.max_individual.stage2.kernel_size, file=file)"
   ]
  },
  {
   "cell_type": "code",
   "execution_count": null,
   "metadata": {
    "tags": []
   },
   "outputs": [],
   "source": [
    "print(fauna.max_individual.stage1.adj, fauna.max_individual.stage1.kernel_size, fauna.max_individual.stage2.adj, fauna.max_individual.stage2.kernel_size)"
   ]
  },
  {
   "cell_type": "code",
   "execution_count": null,
   "metadata": {},
   "outputs": [],
   "source": []
  }
 ],
 "metadata": {
  "kernelspec": {
   "display_name": "Python 3 (ipykernel)",
   "language": "python",
   "name": "python3"
  },
  "language_info": {
   "codemirror_mode": {
    "name": "ipython",
    "version": 3
   },
   "file_extension": ".py",
   "mimetype": "text/x-python",
   "name": "python",
   "nbconvert_exporter": "python",
   "pygments_lexer": "ipython3",
   "version": "3.8.18"
  }
 },
 "nbformat": 4,
 "nbformat_minor": 4
}
